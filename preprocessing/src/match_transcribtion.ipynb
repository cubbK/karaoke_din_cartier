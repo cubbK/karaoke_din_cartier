{
 "cells": [
  {
   "cell_type": "code",
   "execution_count": 1,
   "id": "2d1677c4",
   "metadata": {},
   "outputs": [],
   "source": [
    "%load_ext dotenv\n",
    "%dotenv ../.env -v"
   ]
  },
  {
   "cell_type": "code",
   "execution_count": null,
   "id": "835e3723",
   "metadata": {},
   "outputs": [],
   "source": [
    "import json\n",
    "from openai import OpenAI\n",
    "\n",
    "\n",
    "client = OpenAI()\n",
    "\n",
    "with (\n",
    "    open(\"../output/transcription.json\", \"r\") as transcription_file,\n",
    "    open(\"../output/lyrics.txt\", \"r\") as lyrics_file,\n",
    "):\n",
    "    \n",
    "    \n",
    "    transcription = transcription_file.read()\n",
    "    lyrics = lyrics_file.read().replace(\"\\n\", \" \")\n",
    "\n",
    "    prompt = f\"\"\"\n",
    "    Match EACH transcription segment with the correct lyrics. Return a JSON array with this exact structure:\n",
    "    [\n",
    "        {{\n",
    "            \"start\": <number>,\n",
    "            \"end\": <number>, \n",
    "            \"text\": \"<original transcription text>\",\n",
    "            \"correct_lyric\": \"<matching lyric or empty string if no match>\"\n",
    "        }}\n",
    "        ...the rest\n",
    "    ]\n",
    "    \n",
    "    Transcription: \n",
    "    {transcription}\n",
    "    Lyrics:\n",
    "    {lyrics}\n",
    "    \n",
    "    Return only the JSON array, no other text. Return the whole array with all segments, even if some segments do not match any lyrics.\n",
    "    \"\"\"\n",
    "    \n",
    "    response = client.chat.completions.create(\n",
    "        messages=[\n",
    "            {\n",
    "                \"role\": \"system\",\n",
    "                \"content\": \"You are a JSON formatting assistant. Always return valid JSON arrays exactly as requested.\"\n",
    "            },\n",
    "            {\n",
    "                \"role\": \"user\",\n",
    "                \"content\": prompt,\n",
    "            }\n",
    "        ],\n",
    "        model=\"gpt-4o\",\n",
    "        response_format={\"type\": \"json_object\"},\n",
    "    )\n"
   ]
  },
  {
   "cell_type": "code",
   "execution_count": 15,
   "id": "b230d1b8",
   "metadata": {},
   "outputs": [
    {
     "name": "stdout",
     "output_type": "stream",
     "text": [
      "\n",
      "    {\n",
      "        \"start\": 219.9,\n",
      "        \"end\": 222.52,\n",
      "        \"text\": \" Așa cum e, am făcut ce trebuia\",\n",
      "        \"correct_lyric\": \"Asa cum e am facut ce trebuia\"\n",
      "    }\n"
     ]
    }
   ],
   "source": [
    "import json\n",
    "\n",
    "\n",
    "json_content = response.choices[0].message.content\n",
    "parsed_json = json.loads(json_content)\n",
    "\n",
    "print(json_content)"
   ]
  }
 ],
 "metadata": {
  "kernelspec": {
   "display_name": "preprocessing",
   "language": "python",
   "name": "python3"
  },
  "language_info": {
   "codemirror_mode": {
    "name": "ipython",
    "version": 3
   },
   "file_extension": ".py",
   "mimetype": "text/x-python",
   "name": "python",
   "nbconvert_exporter": "python",
   "pygments_lexer": "ipython3",
   "version": "3.11.11"
  }
 },
 "nbformat": 4,
 "nbformat_minor": 5
}
