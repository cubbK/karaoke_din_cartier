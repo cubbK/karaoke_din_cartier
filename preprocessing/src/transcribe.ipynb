{
 "cells": [
  {
   "cell_type": "code",
   "execution_count": null,
   "id": "623e63a8",
   "metadata": {},
   "outputs": [],
   "source": [
    "import json\n",
    "import whisper\n",
    "\n",
    "model = whisper.load_model(\"turbo\")\n",
    "print(\"Model loaded successfully, starting transcription...\")\n",
    "\n",
    "result = model.transcribe(\n",
    "    \"output/songs_audio/vocal.mp3\", language=\"romanian\", verbose=True\n",
    ")\n",
    "print(result[\"text\"])\n",
    "\n",
    "output = []\n",
    "if isinstance(result[\"segments\"], list):\n",
    "    for segment in result[\"segments\"]:\n",
    "        output.append(\n",
    "            {\"start\": segment[\"start\"], \"end\": segment[\"end\"], \"text\": segment[\"text\"]}\n",
    "        )\n",
    "\n",
    "output_file = \"output/transcription.json\"\n",
    "\n",
    "with open(output_file, \"w\") as f:\n",
    "    json.dump(output, f, indent=4, ensure_ascii=False)\n"
   ]
  }
 ],
 "metadata": {
  "kernelspec": {
   "display_name": "preprocessing",
   "language": "python",
   "name": "python3"
  },
  "language_info": {
   "name": "python",
   "version": "3.11.11"
  }
 },
 "nbformat": 4,
 "nbformat_minor": 5
}
